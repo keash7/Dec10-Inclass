{
 "cells": [
  {
   "cell_type": "code",
   "execution_count": 119,
   "metadata": {},
   "outputs": [
    {
     "name": "stdout",
     "output_type": "stream",
     "text": [
      "(506, 13)\n",
      "(506,)\n"
     ]
    }
   ],
   "source": [
    "from sklearn.datasets import load_boston\n",
    "boston, labels = load_boston(return_X_y=True)\n",
    "print(boston.data.shape)\n",
    "print(labels.shape)\n",
    "import numpy as np"
   ]
  },
  {
   "cell_type": "code",
   "execution_count": 120,
   "metadata": {},
   "outputs": [
    {
     "name": "stdout",
     "output_type": "stream",
     "text": [
      "[-1.07170557e-01  4.63952195e-02  2.08602395e-02  2.68856140e+00\n",
      " -1.77957587e+01  3.80475246e+00  7.51061703e-04 -1.47575880e+00\n",
      "  3.05655038e-01 -1.23293463e-02 -9.53463555e-01  9.39251272e-03\n",
      " -5.25466633e-01  3.64911033e+01]\n"
     ]
    }
   ],
   "source": [
    "#Least squares regression\n",
    "augment_boston=np.hstack((boston,np.ones((506,1))))\n",
    "xt=np.transpose(augment_boston)\n",
    "xtx=np.matmul(xt,augment_boston)\n",
    "xtx_inverse=np.linalg.inv(xtx)\n",
    "\n",
    "xty=np.matmul(xt,labels)\n",
    "w=np.matmul(xtx_inverse,xty)\n",
    "print(w)\n",
    "#w is solution to least squares."
   ]
  },
  {
   "cell_type": "code",
   "execution_count": 121,
   "metadata": {},
   "outputs": [
    {
     "name": "stdout",
     "output_type": "stream",
     "text": [
      "21.897779217687493\n"
     ]
    }
   ],
   "source": [
    "y=np.matmul(augment_boston,w)\n",
    "print (sum(np.square(y-labels))/506)\n",
    "#check if accurate"
   ]
  },
  {
   "cell_type": "code",
   "execution_count": 122,
   "metadata": {},
   "outputs": [
    {
     "name": "stdout",
     "output_type": "stream",
     "text": [
      "(101, 14)\n",
      "(101,)\n",
      "(102, 14)\n",
      "(102,)\n"
     ]
    }
   ],
   "source": [
    "fold1 = augment_boston[:101,:]\n",
    "fold1labels = labels[:101]\n",
    "print(fold1.shape)\n",
    "print(fold1labels.shape)\n",
    "\n",
    "fold2 = augment_boston[101:202,:]\n",
    "fold2labels = labels[101:202]\n",
    "\n",
    "fold3 = augment_boston[202:303,:]\n",
    "fold3labels = labels[202:303]\n",
    "\n",
    "fold4 = augment_boston[303:404,:]\n",
    "fold4labels = labels[303:404]\n",
    "\n",
    "fold5 = augment_boston[404:507,:]\n",
    "fold5labels = labels[404:507]\n",
    "print(fold5.shape)\n",
    "print(fold5labels.shape)\n",
    "\n",
    "data_folded = [fold1,fold2,fold3,fold4,fold5]\n",
    "label_folded = [fold1labels,fold2labels,fold3labels,fold4labels,fold5labels]"
   ]
  },
  {
   "cell_type": "code",
   "execution_count": 123,
   "metadata": {},
   "outputs": [],
   "source": [
    "def cross_validation(split_data, split_labels, k):\n",
    "    z = np.zeros(k)\n",
    "    output = [];\n",
    "    for x in range(k):\n",
    "        test_data = split_data[x]\n",
    "        test_labels = split_labels[x] \n",
    "        training_data = np.concatenate(np.delete(split_data, x,0),axis=0)\n",
    "        training_labels = np.concatenate(np.delete(split_labels, x,0),axis=0)\n",
    "        \n",
    "        xt=np.transpose(training_data)\n",
    "        xtx=np.matmul(xt,training_data)\n",
    "        xtx_inverse=np.linalg.inv(xtx)\n",
    "\n",
    "        xty=np.matmul(xt,training_labels)\n",
    "        w_pred=np.matmul(xtx_inverse,xty)\n",
    "        y_pred=np.matmul(test_data,w_pred)\n",
    "        \n",
    "        output = np.concatenate((output,y_pred))\n",
    "        z = np.square(y_pred-test_labels)\n",
    "        mean=np.sum(z)/z.size\n",
    "    return mean,output"
   ]
  },
  {
   "cell_type": "code",
   "execution_count": 124,
   "metadata": {},
   "outputs": [
    {
     "name": "stdout",
     "output_type": "stream",
     "text": [
      "Average Prediction Error: 33.07562649223572\n"
     ]
    }
   ],
   "source": [
    "mean,predicted = cross_validation(data_folded,label_folded,5)\n",
    "print(\"Average Prediction Error:\",mean)"
   ]
  },
  {
   "cell_type": "code",
   "execution_count": 125,
   "metadata": {},
   "outputs": [
    {
     "data": {
      "image/png": "[encoded data removed]",
      "text/plain": [
       "<Figure size 432x288 with 1 Axes>"
      ]
     },
     "metadata": {},
     "output_type": "display_data"
    }
   ],
   "source": [
    "from matplotlib import pyplot as plt\n",
    "plt.plot(labels,predicted,'bo')\n",
    "\n",
    "def abline(slope, intercept):\n",
    "    \"\"\"Plot a line from slope and intercept\"\"\"\n",
    "    axes = plt.gca()\n",
    "    x_vals = np.array(axes.get_xlim())\n",
    "    y_vals = intercept + slope * x_vals\n",
    "    plt.plot(x_vals, y_vals, '--')\n",
    "    plt.title('Measured vs. Predicted')\n",
    "    plt.xlabel('Measured')\n",
    "    plt.ylabel('Predicted')\n",
    "    \n",
    "abline(1,0)"
   ]
  },
  {
   "cell_type": "code",
   "execution_count": 126,
   "metadata": {},
   "outputs": [
    {
     "name": "stdout",
     "output_type": "stream",
     "text": [
      "[-9.50932941e-02  4.88250703e-02 -1.43064752e-02  2.59714746e+00\n",
      " -3.55672545e+00  5.14770969e+00 -7.92102099e-03 -1.08157860e+00\n",
      "  2.10091174e-01 -1.09104247e-02 -5.44502363e-01  1.32238546e-02\n",
      " -4.65267397e-01  1.01956762e+01]\n"
     ]
    }
   ],
   "source": [
    "#Ridge regression\n",
    "augment_boston=np.hstack((boston,np.ones((506,1))))\n",
    "xt=np.transpose(augment_boston)\n",
    "xtx=np.matmul(xt,augment_boston)\n",
    "lamda=2 #lamda can vary\n",
    "xtxlamdaI=xtx+lamda*np.eye(14)\n",
    "xtxlamdaI_inverse=np.linalg.inv(xtxlamdaI)\n",
    "\n",
    "xty=np.matmul(xt,labels)\n",
    "w_rr=np.matmul(xtxlamdaI_inverse,xty)\n",
    "print(w_rr)\n",
    "#w_rr is solution to ridge regression."
   ]
  },
  {
   "cell_type": "code",
   "execution_count": 127,
   "metadata": {},
   "outputs": [],
   "source": [
    "def cross_val_ridge(split_data, split_labels, k,lamda):\n",
    "    #z = np.zeros(k)\n",
    "    output = [];\n",
    "    for x in range(k):\n",
    "        test_data = split_data[x]\n",
    "        test_labels = split_labels[x] \n",
    "        training_data = np.concatenate(np.delete(split_data, x,0),axis=0)\n",
    "        training_labels = np.concatenate(np.delete(split_labels, x,0),axis=0)\n",
    "        \n",
    "        xt=np.transpose(training_data)\n",
    "        xtx=np.matmul(xt,training_data)\n",
    "        xtxlamdaI=xtx+lamda*np.eye(14)\n",
    "        xtxlamdaI_inverse=np.linalg.inv(xtxlamdaI)\n",
    "\n",
    "        xty=np.matmul(xt,training_labels)\n",
    "        w_rr_pred=np.matmul(xtxlamdaI_inverse,xty)\n",
    "        y_pred=np.matmul(test_data,w_rr_pred)\n",
    "        \n",
    "        output = np.concatenate((output,y_pred))\n",
    "        z = np.square(y_pred-test_labels)\n",
    "        mean=np.sum(z)/z.size\n",
    "    return mean,output"
   ]
  },
  {
   "cell_type": "code",
   "execution_count": 128,
   "metadata": {},
   "outputs": [],
   "source": [
    "newsplitdata = np.delete(data_folded, 0,0) #use 4 folds instead of 5\n",
    "newsplitlabels = np.delete(label_folded, 0,0)\n",
    "lamda_val=np.linspace(0,100,101)\n",
    "lamda_error = np.zeros(lamda_val.size) #error for each lamda value\n",
    "for i in range(lamda_val.size):\n",
    "    lamda_error[i] = (cross_val_ridge(newsplitdata,newsplitlabels,4,lamda_val[i]))[0]\n",
    "bestlam = lamda_val[np.argmin(lamda_error)] \n",
    "error = cross_val_ridge(data_folded,label_folded,5,bestlam)[0]"
   ]
  },
  {
   "cell_type": "code",
   "execution_count": 129,
   "metadata": {},
   "outputs": [
    {
     "name": "stdout",
     "output_type": "stream",
     "text": [
      "Average Prediction Error Ridge Regression 30.20691402046403\n"
     ]
    }
   ],
   "source": [
    "print(\"Average Prediction Error Ridge Regression\",error)"
   ]
  }
 ],
 "metadata": {
  "kernelspec": {
   "display_name": "Python 3",
   "language": "python",
   "name": "python3"
  },
  "language_info": {
   "codemirror_mode": {
    "name": "ipython",
    "version": 3
   },
   "file_extension": ".py",
   "mimetype": "text/x-python",
   "name": "python",
   "nbconvert_exporter": "python",
   "pygments_lexer": "ipython3",
   "version": "3.6.5"
  }
 },
 "nbformat": 4,
 "nbformat_minor": 2
}
